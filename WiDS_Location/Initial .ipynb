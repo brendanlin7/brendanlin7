{
 "cells": [
  {
   "cell_type": "code",
   "execution_count": 1,
   "metadata": {},
   "outputs": [],
   "source": [
    "#cleaned dataset for: \n",
    "\n",
    "#location: Austin\n",
    "#category: Restaurant \n",
    "#open/close: only open restaurants \n",
    "#fast food: removal of fast food/chain restaurants, BUT include locations with \"Breakfast & Brunch\"\n",
    "\n",
    "#also included a merge between check_in data and business data "
   ]
  },
  {
   "cell_type": "code",
   "execution_count": 2,
   "metadata": {},
   "outputs": [],
   "source": [
    "import json\n",
    "import pandas as pd"
   ]
  },
  {
   "cell_type": "code",
   "execution_count": 3,
   "metadata": {},
   "outputs": [],
   "source": [
    "business_data = pd.read_json('yelp_academic_dataset_business.json',lines=True)\n",
    "#len(business_data)\n",
    "#business_data.columns\n",
    "#business_data.head()"
   ]
  },
  {
   "cell_type": "code",
   "execution_count": 4,
   "metadata": {},
   "outputs": [
    {
     "data": {
      "text/html": [
       "<div>\n",
       "<style scoped>\n",
       "    .dataframe tbody tr th:only-of-type {\n",
       "        vertical-align: middle;\n",
       "    }\n",
       "\n",
       "    .dataframe tbody tr th {\n",
       "        vertical-align: top;\n",
       "    }\n",
       "\n",
       "    .dataframe thead th {\n",
       "        text-align: right;\n",
       "    }\n",
       "</style>\n",
       "<table border=\"1\" class=\"dataframe\">\n",
       "  <thead>\n",
       "    <tr style=\"text-align: right;\">\n",
       "      <th></th>\n",
       "      <th>business_id</th>\n",
       "      <th>name</th>\n",
       "      <th>address</th>\n",
       "      <th>city</th>\n",
       "      <th>state</th>\n",
       "      <th>postal_code</th>\n",
       "      <th>latitude</th>\n",
       "      <th>longitude</th>\n",
       "      <th>stars</th>\n",
       "      <th>review_count</th>\n",
       "      <th>is_open</th>\n",
       "      <th>attributes</th>\n",
       "      <th>categories</th>\n",
       "      <th>hours</th>\n",
       "    </tr>\n",
       "  </thead>\n",
       "  <tbody>\n",
       "    <tr>\n",
       "      <th>37063</th>\n",
       "      <td>6cIzTqQGthBctMWzxLHwRQ</td>\n",
       "      <td>Nervous Charlie's</td>\n",
       "      <td>5501 N Lamar Blvd, Ste B101</td>\n",
       "      <td>Austin</td>\n",
       "      <td>TX</td>\n",
       "      <td>78751</td>\n",
       "      <td>30.32294</td>\n",
       "      <td>-97.727974</td>\n",
       "      <td>4.5</td>\n",
       "      <td>332</td>\n",
       "      <td>1</td>\n",
       "      <td>{'GoodForKids': 'True', 'GoodForMeal': '{'dess...</td>\n",
       "      <td>Restaurants, Sandwiches, Bagels, Breakfast &amp; B...</td>\n",
       "      <td>{'Monday': '7:0-15:0', 'Tuesday': '7:0-15:0', ...</td>\n",
       "    </tr>\n",
       "  </tbody>\n",
       "</table>\n",
       "</div>"
      ],
      "text/plain": [
       "                  business_id               name                      address  \\\n",
       "37063  6cIzTqQGthBctMWzxLHwRQ  Nervous Charlie's  5501 N Lamar Blvd, Ste B101   \n",
       "\n",
       "         city state postal_code  latitude  longitude  stars  review_count  \\\n",
       "37063  Austin    TX       78751  30.32294 -97.727974    4.5           332   \n",
       "\n",
       "       is_open                                         attributes  \\\n",
       "37063        1  {'GoodForKids': 'True', 'GoodForMeal': '{'dess...   \n",
       "\n",
       "                                              categories  \\\n",
       "37063  Restaurants, Sandwiches, Bagels, Breakfast & B...   \n",
       "\n",
       "                                                   hours  \n",
       "37063  {'Monday': '7:0-15:0', 'Tuesday': '7:0-15:0', ...  "
      ]
     },
     "execution_count": 4,
     "metadata": {},
     "output_type": "execute_result"
    }
   ],
   "source": [
    "business_data[business_data['business_id']=='6cIzTqQGthBctMWzxLHwRQ']"
   ]
  },
  {
   "cell_type": "code",
   "execution_count": 5,
   "metadata": {},
   "outputs": [],
   "source": [
    "austin_business_data = business_data[business_data['city']=='Austin']\n",
    "#filter Yelp dataset based ONLY on Austin establishments "
   ]
  },
  {
   "cell_type": "code",
   "execution_count": 6,
   "metadata": {},
   "outputs": [],
   "source": [
    "arbd= austin_business_data[austin_business_data['categories'].str.contains('Restaurant',na=False)]"
   ]
  },
  {
   "cell_type": "code",
   "execution_count": 7,
   "metadata": {},
   "outputs": [],
   "source": [
    "#len(austin_restaurants_business_data)\n",
    "#check for length of new dataset, will primarily be using this moving forward \n",
    "#fits criteria for 1)reviews located in Austin + 2)reviews only by restaurant category"
   ]
  },
  {
   "cell_type": "code",
   "execution_count": 8,
   "metadata": {},
   "outputs": [],
   "source": [
    "#austin_restaurants_business_data.to_excel('C:\\\\Users\\\\blin3\\\\Machine Learning\\\\WiDS\\\\covid_19_dataset_2020_06_10\\\\rest_bus_data_x.xlsx',index=False)\n",
    "\n",
    "#transferred to excel for a better outlook on data\n",
    "\n",
    "#arbd = pd.read_excel('rest_bus_data_x.xlsx')\n",
    "##NOTE: NEED TO RUN THE previous cell to save the original arbd dataset as a new excel file \n",
    "#Just redefining the df b/c I want to, you can easily just call the original df as \"arbd\" if you desire\n",
    "\n",
    "#arbd = austin restaurant business data "
   ]
  },
  {
   "cell_type": "code",
   "execution_count": null,
   "metadata": {},
   "outputs": [],
   "source": []
  },
  {
   "cell_type": "code",
   "execution_count": 9,
   "metadata": {},
   "outputs": [],
   "source": [
    "#merge checkin dataset with business dataset "
   ]
  },
  {
   "cell_type": "code",
   "execution_count": 10,
   "metadata": {},
   "outputs": [],
   "source": [
    "check_in = pd.read_json('yelp_academic_dataset_checkin.json',lines=True)"
   ]
  },
  {
   "cell_type": "code",
   "execution_count": 11,
   "metadata": {},
   "outputs": [
    {
     "data": {
      "text/html": [
       "<div>\n",
       "<style scoped>\n",
       "    .dataframe tbody tr th:only-of-type {\n",
       "        vertical-align: middle;\n",
       "    }\n",
       "\n",
       "    .dataframe tbody tr th {\n",
       "        vertical-align: top;\n",
       "    }\n",
       "\n",
       "    .dataframe thead th {\n",
       "        text-align: right;\n",
       "    }\n",
       "</style>\n",
       "<table border=\"1\" class=\"dataframe\">\n",
       "  <thead>\n",
       "    <tr style=\"text-align: right;\">\n",
       "      <th></th>\n",
       "      <th>business_id</th>\n",
       "      <th>date</th>\n",
       "    </tr>\n",
       "  </thead>\n",
       "  <tbody>\n",
       "    <tr>\n",
       "      <th>16478</th>\n",
       "      <td>6cIzTqQGthBctMWzxLHwRQ</td>\n",
       "      <td>2018-09-20 00:07:21, 2018-09-21 12:15:54, 2018...</td>\n",
       "    </tr>\n",
       "  </tbody>\n",
       "</table>\n",
       "</div>"
      ],
      "text/plain": [
       "                  business_id  \\\n",
       "16478  6cIzTqQGthBctMWzxLHwRQ   \n",
       "\n",
       "                                                    date  \n",
       "16478  2018-09-20 00:07:21, 2018-09-21 12:15:54, 2018...  "
      ]
     },
     "execution_count": 11,
     "metadata": {},
     "output_type": "execute_result"
    }
   ],
   "source": [
    "check_in[check_in['business_id']=='6cIzTqQGthBctMWzxLHwRQ']"
   ]
  },
  {
   "cell_type": "code",
   "execution_count": 12,
   "metadata": {},
   "outputs": [],
   "source": [
    "arbdc = pd.merge(arbd,check_in, on='business_id')\n",
    "#arbd dataset + check in dataset "
   ]
  },
  {
   "cell_type": "code",
   "execution_count": 13,
   "metadata": {},
   "outputs": [
    {
     "data": {
      "text/plain": [
       "1    2796\n",
       "0    1988\n",
       "Name: is_open, dtype: int64"
      ]
     },
     "execution_count": 13,
     "metadata": {},
     "output_type": "execute_result"
    }
   ],
   "source": [
    "arbdc['is_open'].value_counts()\n",
    "#2796 restaurants are open, 1988 are not open"
   ]
  },
  {
   "cell_type": "code",
   "execution_count": 14,
   "metadata": {},
   "outputs": [],
   "source": [
    "arbdc = arbdc[arbdc['is_open']==1]\n",
    "#only open businesses 4784 -->2796"
   ]
  },
  {
   "cell_type": "code",
   "execution_count": 15,
   "metadata": {},
   "outputs": [],
   "source": [
    "arbdc = arbdc.drop(['city', 'state','latitude','longitude'], axis=1)"
   ]
  },
  {
   "cell_type": "code",
   "execution_count": 16,
   "metadata": {},
   "outputs": [],
   "source": [
    "l1 = arbdc['name'].value_counts()[:30].index.tolist()\n",
    "#top 31 general locations \n",
    "#.index.tolist() returns the list of values WITHOUT the actual values \n",
    "#if you just did: list(df['name'].value_counts()[:30]), then you would get a list of #'s, like [27,26,25....], instead of\n",
    "#[\"Wendy's\", \"McDonald's\",.....]"
   ]
  },
  {
   "cell_type": "code",
   "execution_count": 17,
   "metadata": {},
   "outputs": [
    {
     "data": {
      "text/plain": [
       "['Subway',\n",
       " \"McDonald's\",\n",
       " 'Sonic Drive-In',\n",
       " \"Domino's Pizza\",\n",
       " 'Taco Bell',\n",
       " 'Jack in the Box',\n",
       " \"Wendy's\",\n",
       " 'Whataburger',\n",
       " \"P. Terry's Burger Stand\",\n",
       " 'Chipotle Mexican Grill',\n",
       " \"Jimmy John's\",\n",
       " 'JuiceLand',\n",
       " 'Thundercloud Subs',\n",
       " \"Papa John's Pizza\",\n",
       " 'Pizza Hut',\n",
       " 'Chick-fil-A',\n",
       " 'Taco Cabana',\n",
       " \"Jersey Mike's Subs\",\n",
       " 'Panda Express',\n",
       " 'Starbucks',\n",
       " 'Popeyes Louisiana Kitchen',\n",
       " 'Burger King',\n",
       " 'El Pollo Rico',\n",
       " 'Torchys Tacos',\n",
       " 'KFC',\n",
       " 'Wingstop',\n",
       " \"Chi'Lantro\",\n",
       " 'IHOP',\n",
       " 'Tacodeli',\n",
       " 'Dairy Queen']"
      ]
     },
     "execution_count": 17,
     "metadata": {},
     "output_type": "execute_result"
    }
   ],
   "source": [
    "l1"
   ]
  },
  {
   "cell_type": "code",
   "execution_count": 18,
   "metadata": {},
   "outputs": [],
   "source": [
    "l2 = arbdc[arbdc['categories'].str.contains('Fast Food',na=False)]['name'].value_counts()[:30].index.tolist()\n",
    "#top31 locations with 'fast food' in its category description \n",
    "#31 is an abritrary number "
   ]
  },
  {
   "cell_type": "code",
   "execution_count": 19,
   "metadata": {},
   "outputs": [
    {
     "data": {
      "text/plain": [
       "[\"Domino's Pizza\",\n",
       " 'JuiceLand',\n",
       " 'Thundercloud Subs',\n",
       " \"Papa John's Pizza\",\n",
       " 'Pizza Hut',\n",
       " 'Starbucks',\n",
       " 'El Pollo Rico',\n",
       " 'Torchys Tacos',\n",
       " 'Wingstop',\n",
       " \"Chi'Lantro\",\n",
       " 'IHOP',\n",
       " 'Tacodeli']"
      ]
     },
     "execution_count": 19,
     "metadata": {},
     "output_type": "execute_result"
    }
   ],
   "source": [
    "l3 = [x for x in l1 if x not in l2]  #all the items that exist in l1, that ARE NOT in l2\n",
    "l3"
   ]
  },
  {
   "cell_type": "code",
   "execution_count": 20,
   "metadata": {},
   "outputs": [],
   "source": [
    "l2.extend(l3) #use extend instead of append, otherwise the l3 will be a nested list"
   ]
  },
  {
   "cell_type": "code",
   "execution_count": 21,
   "metadata": {},
   "outputs": [],
   "source": [
    "#list(df[df['categories'].str.contains('Fast Food',na=False)]['name'].unique())[0:19]\n",
    "#fast_food= list(df[df['categories'].str.contains('Fast Food',na=False)]['name'].unique())[0:19]    \n",
    "\n",
    "#^^initial lines of code to remove fast food restaurants, but did not contain \n",
    "# 1) the most frequent # of fast food restaurants; didn't use the value_counts attribute \n",
    "# 2) did not include other chain stores that did not have the fast food category label; ex: SBUX, Pizza Hut"
   ]
  },
  {
   "cell_type": "code",
   "execution_count": 22,
   "metadata": {},
   "outputs": [],
   "source": [
    "bfast_check_df = arbdc[arbdc['name'].isin(l2)]   \n",
    "#creating a new df that ONLY contains the locations in l2"
   ]
  },
  {
   "cell_type": "code",
   "execution_count": 23,
   "metadata": {},
   "outputs": [
    {
     "data": {
      "text/plain": [
       "Taco Bell                  19\n",
       "Jack in the Box            19\n",
       "IHOP                        7\n",
       "Torchys Tacos               7\n",
       "Tacodeli                    6\n",
       "Church's Chicken            4\n",
       "Taco Cabana                 2\n",
       "Starbucks                   2\n",
       "Chick-fil-A                 1\n",
       "Burger King                 1\n",
       "P. Terry's Burger Stand     1\n",
       "Name: name, dtype: int64"
      ]
     },
     "execution_count": 23,
     "metadata": {},
     "output_type": "execute_result"
    }
   ],
   "source": [
    "bfast_check_df[bfast_check_df['categories'].str.contains('Breakfast | Diner | Bagel',na=False)].name.value_counts()"
   ]
  },
  {
   "cell_type": "code",
   "execution_count": 24,
   "metadata": {},
   "outputs": [],
   "source": [
    "l2.remove('IHOP')"
   ]
  },
  {
   "cell_type": "code",
   "execution_count": 25,
   "metadata": {},
   "outputs": [
    {
     "data": {
      "text/plain": [
       "False"
      ]
     },
     "execution_count": 25,
     "metadata": {},
     "output_type": "execute_result"
    }
   ],
   "source": [
    "'IHOP' in l2  #check if IHOP is in l2\n",
    "#https://stackoverflow.com/questions/7571635/fastest-way-to-check-if-a-value-exists-in-a-list"
   ]
  },
  {
   "cell_type": "code",
   "execution_count": 26,
   "metadata": {},
   "outputs": [],
   "source": [
    "#arbdc[arbdc['categories'].str.contains('Diners',na=False)].name.value_counts()\n",
    "#additional check for restaurants with \"diner\" label, potential competition "
   ]
  },
  {
   "cell_type": "code",
   "execution_count": 27,
   "metadata": {},
   "outputs": [],
   "source": [
    "#pd.set_option('display.max_colwidth', None)\n",
    "#arbdc[arbdc['name']=='IHOP'].categories\n",
    "#check to see how categories can be different for the same restaurant\n",
    "#ex: IHOP 109 contains \"Diners\", but IHOP 1455 does not"
   ]
  },
  {
   "cell_type": "code",
   "execution_count": 28,
   "metadata": {},
   "outputs": [],
   "source": [
    "arbdc = arbdc[~arbdc['name'].isin(l2)]   \n",
    "#removing every row that has a name in the l2 list \n",
    "#the (~) means \"not\" "
   ]
  },
  {
   "cell_type": "code",
   "execution_count": 29,
   "metadata": {},
   "outputs": [
    {
     "data": {
      "text/html": [
       "<div>\n",
       "<style scoped>\n",
       "    .dataframe tbody tr th:only-of-type {\n",
       "        vertical-align: middle;\n",
       "    }\n",
       "\n",
       "    .dataframe tbody tr th {\n",
       "        vertical-align: top;\n",
       "    }\n",
       "\n",
       "    .dataframe thead th {\n",
       "        text-align: right;\n",
       "    }\n",
       "</style>\n",
       "<table border=\"1\" class=\"dataframe\">\n",
       "  <thead>\n",
       "    <tr style=\"text-align: right;\">\n",
       "      <th></th>\n",
       "      <th>business_id</th>\n",
       "      <th>name</th>\n",
       "      <th>address</th>\n",
       "      <th>postal_code</th>\n",
       "      <th>stars</th>\n",
       "      <th>review_count</th>\n",
       "      <th>is_open</th>\n",
       "      <th>attributes</th>\n",
       "      <th>categories</th>\n",
       "      <th>hours</th>\n",
       "      <th>date</th>\n",
       "    </tr>\n",
       "  </thead>\n",
       "  <tbody>\n",
       "  </tbody>\n",
       "</table>\n",
       "</div>"
      ],
      "text/plain": [
       "Empty DataFrame\n",
       "Columns: [business_id, name, address, postal_code, stars, review_count, is_open, attributes, categories, hours, date]\n",
       "Index: []"
      ]
     },
     "execution_count": 29,
     "metadata": {},
     "output_type": "execute_result"
    }
   ],
   "source": [
    "arbdc[arbdc['name']==\"Wendy's\"]\n",
    "#post-check to see if Wendy's is in the new df "
   ]
  },
  {
   "cell_type": "code",
   "execution_count": 30,
   "metadata": {},
   "outputs": [
    {
     "data": {
      "text/plain": [
       "2384"
      ]
     },
     "execution_count": 30,
     "metadata": {},
     "output_type": "execute_result"
    }
   ],
   "source": [
    "len(arbdc)"
   ]
  },
  {
   "cell_type": "code",
   "execution_count": 31,
   "metadata": {},
   "outputs": [],
   "source": [
    "arbdc = arbdc.groupby('postal_code').filter(lambda x: len(x)>1)\n",
    "#removing zip codes with only 1 restaurant in them"
   ]
  },
  {
   "cell_type": "code",
   "execution_count": 32,
   "metadata": {},
   "outputs": [
    {
     "data": {
      "text/plain": [
       "2375"
      ]
     },
     "execution_count": 32,
     "metadata": {},
     "output_type": "execute_result"
    }
   ],
   "source": [
    "len(arbdc.groupby('postal_code').filter(lambda x: len(x)>1))\n",
    "#https://stackoverflow.com/questions/49735683/python-removing-rows-on-count-condition\n",
    "#9 zip codes removed "
   ]
  },
  {
   "cell_type": "code",
   "execution_count": 33,
   "metadata": {
    "scrolled": false
   },
   "outputs": [
    {
     "data": {
      "text/plain": [
       "6"
      ]
     },
     "execution_count": 33,
     "metadata": {},
     "output_type": "execute_result"
    }
   ],
   "source": [
    "len(arbdc[arbdc['postal_code']=='78798'])"
   ]
  },
  {
   "cell_type": "code",
   "execution_count": null,
   "metadata": {},
   "outputs": [],
   "source": []
  },
  {
   "cell_type": "code",
   "execution_count": 34,
   "metadata": {},
   "outputs": [],
   "source": [
    "extra_zips = ['78617','78798']\n",
    "#removing extra zip codes as they are irrelevant to the histogram shown below / skew results "
   ]
  },
  {
   "cell_type": "code",
   "execution_count": 35,
   "metadata": {},
   "outputs": [],
   "source": [
    "for i in extra_zips: \n",
    "    x= arbdc[arbdc['postal_code'] == i].index\n",
    "    arbdc= arbdc.drop(x)\n",
    "#removal of the rows that contain the zip codes 78617, 78798"
   ]
  },
  {
   "cell_type": "code",
   "execution_count": 36,
   "metadata": {},
   "outputs": [
    {
     "data": {
      "text/plain": [
       "78736    8\n",
       "78712    6\n",
       "78747    6\n",
       "78733    5\n",
       "78739    3\n",
       "Name: postal_code, dtype: int64"
      ]
     },
     "execution_count": 36,
     "metadata": {},
     "output_type": "execute_result"
    }
   ],
   "source": [
    "arbdc['postal_code'].value_counts().tail()\n",
    "#check value counts again, make sure that no zip codes have only 1 restaurant"
   ]
  },
  {
   "cell_type": "code",
   "execution_count": 37,
   "metadata": {},
   "outputs": [
    {
     "data": {
      "text/html": [
       "<div>\n",
       "<style scoped>\n",
       "    .dataframe tbody tr th:only-of-type {\n",
       "        vertical-align: middle;\n",
       "    }\n",
       "\n",
       "    .dataframe tbody tr th {\n",
       "        vertical-align: top;\n",
       "    }\n",
       "\n",
       "    .dataframe thead th {\n",
       "        text-align: right;\n",
       "    }\n",
       "</style>\n",
       "<table border=\"1\" class=\"dataframe\">\n",
       "  <thead>\n",
       "    <tr style=\"text-align: right;\">\n",
       "      <th></th>\n",
       "      <th>business_id</th>\n",
       "      <th>name</th>\n",
       "      <th>address</th>\n",
       "      <th>postal_code</th>\n",
       "      <th>stars</th>\n",
       "      <th>review_count</th>\n",
       "      <th>is_open</th>\n",
       "      <th>attributes</th>\n",
       "      <th>categories</th>\n",
       "      <th>hours</th>\n",
       "      <th>date</th>\n",
       "    </tr>\n",
       "  </thead>\n",
       "  <tbody>\n",
       "  </tbody>\n",
       "</table>\n",
       "</div>"
      ],
      "text/plain": [
       "Empty DataFrame\n",
       "Columns: [business_id, name, address, postal_code, stars, review_count, is_open, attributes, categories, hours, date]\n",
       "Index: []"
      ]
     },
     "execution_count": 37,
     "metadata": {},
     "output_type": "execute_result"
    }
   ],
   "source": [
    "arbdc[arbdc['postal_code']=='78617']"
   ]
  },
  {
   "cell_type": "code",
   "execution_count": 38,
   "metadata": {},
   "outputs": [],
   "source": [
    "arbdc.to_excel('Yelp_Update_Cleaned_5_20.xlsx')"
   ]
  },
  {
   "cell_type": "code",
   "execution_count": null,
   "metadata": {},
   "outputs": [],
   "source": []
  },
  {
   "cell_type": "code",
   "execution_count": 40,
   "metadata": {},
   "outputs": [],
   "source": [
    "test = check_in.iloc[0]"
   ]
  },
  {
   "cell_type": "code",
   "execution_count": 49,
   "metadata": {},
   "outputs": [
    {
     "data": {
      "text/plain": [
       "'--0r8K_AQ4FZfLsX3ZYRDA'"
      ]
     },
     "execution_count": 49,
     "metadata": {},
     "output_type": "execute_result"
    }
   ],
   "source": [
    "x = check_in.iloc[0].business_id\n",
    "x"
   ]
  },
  {
   "cell_type": "code",
   "execution_count": 43,
   "metadata": {},
   "outputs": [
    {
     "data": {
      "text/plain": [
       "0         6iYb2HFDywm3zjuRg0shjw\n",
       "1         tCbdrRPZA0oiIYSmHG3J0w\n",
       "2         bvN78flM8NLprQ1a1y5dRg\n",
       "3         oaepsyvc0J17qwi8cfrOWg\n",
       "4         PE9uqAjdw0E4-8mjGl3wVA\n",
       "                   ...          \n",
       "160580    D2mHoIDXx9N8mS1pGoKV9Q\n",
       "160581    bQX-kwVTyZgcdZGEPzce6Q\n",
       "160582    wvFZ06nmPmQ2-IVoPqVYLA\n",
       "160583    GB75wPibj3IjNauaoCxyGA\n",
       "160584    ngmLL5Y5OT-bYHKU0kKrYA\n",
       "Name: business_id, Length: 160585, dtype: object"
      ]
     },
     "execution_count": 43,
     "metadata": {},
     "output_type": "execute_result"
    }
   ],
   "source": [
    "business_data.business_id"
   ]
  },
  {
   "cell_type": "code",
   "execution_count": 69,
   "metadata": {},
   "outputs": [
    {
     "data": {
      "text/plain": [
       "'Columbus'"
      ]
     },
     "execution_count": 69,
     "metadata": {},
     "output_type": "execute_result"
    }
   ],
   "source": [
    "y= business_data[business_data['business_id']==x]['city'].astype(str).values[0]\n",
    "y\n"
   ]
  },
  {
   "cell_type": "code",
   "execution_count": 65,
   "metadata": {},
   "outputs": [],
   "source": [
    "business_data['test']=''"
   ]
  },
  {
   "cell_type": "code",
   "execution_count": 73,
   "metadata": {},
   "outputs": [
    {
     "ename": "ValueError",
     "evalue": "The truth value of a Series is ambiguous. Use a.empty, a.bool(), a.item(), a.any() or a.all().",
     "output_type": "error",
     "traceback": [
      "\u001b[1;31m---------------------------------------------------------------------------\u001b[0m",
      "\u001b[1;31mValueError\u001b[0m                                Traceback (most recent call last)",
      "\u001b[1;32m<ipython-input-73-eaf9a2b788c3>\u001b[0m in \u001b[0;36m<module>\u001b[1;34m()\u001b[0m\n\u001b[0;32m      2\u001b[0m \u001b[1;32mwhile\u001b[0m \u001b[0mi\u001b[0m\u001b[1;33m<\u001b[0m \u001b[0mlen\u001b[0m\u001b[1;33m(\u001b[0m\u001b[0mbusiness_data\u001b[0m\u001b[1;33m)\u001b[0m\u001b[1;33m:\u001b[0m\u001b[1;33m\u001b[0m\u001b[0m\n\u001b[0;32m      3\u001b[0m     \u001b[0mx\u001b[0m\u001b[1;33m=\u001b[0m\u001b[0mcheck_in\u001b[0m\u001b[1;33m.\u001b[0m\u001b[0miloc\u001b[0m\u001b[1;33m[\u001b[0m\u001b[0mi\u001b[0m\u001b[1;33m]\u001b[0m\u001b[1;33m\u001b[0m\u001b[0m\n\u001b[1;32m----> 4\u001b[1;33m     \u001b[1;32mif\u001b[0m \u001b[0mx\u001b[0m \u001b[1;33m==\u001b[0m \u001b[0mbusiness_data\u001b[0m\u001b[1;33m[\u001b[0m\u001b[1;34m'business_id'\u001b[0m\u001b[1;33m]\u001b[0m\u001b[1;33m.\u001b[0m\u001b[0miloc\u001b[0m\u001b[1;33m[\u001b[0m\u001b[0mi\u001b[0m\u001b[1;33m]\u001b[0m\u001b[1;33m:\u001b[0m\u001b[1;33m\u001b[0m\u001b[0m\n\u001b[0m\u001b[0;32m      5\u001b[0m         \u001b[0my\u001b[0m \u001b[1;33m=\u001b[0m \u001b[0mbusiness_data\u001b[0m\u001b[1;33m[\u001b[0m\u001b[0mbusiness_data\u001b[0m\u001b[1;33m[\u001b[0m\u001b[1;34m'business_id'\u001b[0m\u001b[1;33m]\u001b[0m\u001b[1;33m==\u001b[0m\u001b[0mx\u001b[0m\u001b[1;33m]\u001b[0m\u001b[1;33m[\u001b[0m\u001b[1;34m'city'\u001b[0m\u001b[1;33m]\u001b[0m\u001b[1;33m.\u001b[0m\u001b[0mastype\u001b[0m\u001b[1;33m(\u001b[0m\u001b[0mstr\u001b[0m\u001b[1;33m)\u001b[0m\u001b[1;33m\u001b[0m\u001b[0m\n\u001b[0;32m      6\u001b[0m \u001b[1;33m\u001b[0m\u001b[0m\n",
      "\u001b[1;32m~\\Anaconda3\\lib\\site-packages\\pandas\\core\\generic.py\u001b[0m in \u001b[0;36m__nonzero__\u001b[1;34m(self)\u001b[0m\n\u001b[0;32m   1328\u001b[0m     \u001b[1;32mdef\u001b[0m \u001b[0m__nonzero__\u001b[0m\u001b[1;33m(\u001b[0m\u001b[0mself\u001b[0m\u001b[1;33m)\u001b[0m\u001b[1;33m:\u001b[0m\u001b[1;33m\u001b[0m\u001b[0m\n\u001b[0;32m   1329\u001b[0m         raise ValueError(\n\u001b[1;32m-> 1330\u001b[1;33m             \u001b[1;34mf\"The truth value of a {type(self).__name__} is ambiguous. \"\u001b[0m\u001b[1;33m\u001b[0m\u001b[0m\n\u001b[0m\u001b[0;32m   1331\u001b[0m             \u001b[1;34m\"Use a.empty, a.bool(), a.item(), a.any() or a.all().\"\u001b[0m\u001b[1;33m\u001b[0m\u001b[0m\n\u001b[0;32m   1332\u001b[0m         )\n",
      "\u001b[1;31mValueError\u001b[0m: The truth value of a Series is ambiguous. Use a.empty, a.bool(), a.item(), a.any() or a.all()."
     ]
    }
   ],
   "source": [
    "i=0\n",
    "while i< len(business_data):\n",
    "    x=check_in.iloc[i]\n",
    "    if x == business_data['business_id'].iloc[i]:\n",
    "        y = business_data[business_data['business_id']==x]['city'].astype(str)\n",
    "\n",
    "        business_data = business_data.loc[i,'test']=y    \n",
    "    i+=1"
   ]
  },
  {
   "cell_type": "code",
   "execution_count": 46,
   "metadata": {},
   "outputs": [
    {
     "data": {
      "text/plain": [
       "'6iYb2HFDywm3zjuRg0shjw'"
      ]
     },
     "execution_count": 46,
     "metadata": {},
     "output_type": "execute_result"
    }
   ],
   "source": [
    "business_data['business_id'].iloc[0]"
   ]
  },
  {
   "cell_type": "code",
   "execution_count": 72,
   "metadata": {},
   "outputs": [
    {
     "data": {
      "text/plain": [
       "29957    5\n",
       "Name: review_count, dtype: int64"
      ]
     },
     "execution_count": 72,
     "metadata": {},
     "output_type": "execute_result"
    }
   ],
   "source": [
    "business_data[business_data['business_id']=='--0r8K_AQ4FZfLsX3ZYRDA'].review_count"
   ]
  },
  {
   "cell_type": "code",
   "execution_count": null,
   "metadata": {},
   "outputs": [],
   "source": []
  }
 ],
 "metadata": {
  "kernelspec": {
   "display_name": "Python 3",
   "language": "python",
   "name": "python3"
  },
  "language_info": {
   "codemirror_mode": {
    "name": "ipython",
    "version": 3
   },
   "file_extension": ".py",
   "mimetype": "text/x-python",
   "name": "python",
   "nbconvert_exporter": "python",
   "pygments_lexer": "ipython3",
   "version": "3.6.5"
  }
 },
 "nbformat": 4,
 "nbformat_minor": 2
}
